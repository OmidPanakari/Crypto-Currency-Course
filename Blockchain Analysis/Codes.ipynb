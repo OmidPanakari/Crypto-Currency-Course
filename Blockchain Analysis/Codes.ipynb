{
  "nbformat": 4,
  "nbformat_minor": 0,
  "metadata": {
    "colab": {
      "provenance": []
    },
    "kernelspec": {
      "name": "python3",
      "display_name": "Python 3"
    },
    "language_info": {
      "name": "python"
    }
  },
  "cells": [
    {
      "cell_type": "code",
      "source": [
        "import requests\n",
        "import pandas as pd\n",
        "import numpy as np\n",
        "import gzip\n",
        "import shutil\n",
        "from datetime import date, timedelta, datetime\n",
        "from scipy.stats import kstest, expon\n",
        "import matplotlib.pyplot as plt"
      ],
      "metadata": {
        "id": "2ZlK1A9U5_7p"
      },
      "execution_count": null,
      "outputs": []
    },
    {
      "cell_type": "code",
      "execution_count": null,
      "metadata": {
        "id": "T8BJFTnT5Olr"
      },
      "outputs": [],
      "source": [
        "def read_data():\n",
        "  start = date(2022, 1, 1)\n",
        "  end = date(2022, 12, 31)\n",
        "  delta = timedelta(days=1)\n",
        "  data = []\n",
        "  while(start <= end):\n",
        "    url = 'https://gz.blockchair.com/bitcoin/blocks/blockchair_bitcoin_blocks_' + start.strftime('%Y%m%d') + '.tsv.gz'\n",
        "    req = requests.get(url, allow_redirects=True)\n",
        "    open('file.gz', 'wb').write(req.content)\n",
        "    data.append(pd.read_csv('file.gz', sep='\\t', compression='gzip'))\n",
        "    start += delta\n",
        "  return pd.concat(data)"
      ]
    },
    {
      "cell_type": "code",
      "source": [
        "df = read_data()"
      ],
      "metadata": {
        "id": "aNLZn2Ns7y5i"
      },
      "execution_count": null,
      "outputs": []
    },
    {
      "cell_type": "code",
      "source": [
        "df.head()"
      ],
      "metadata": {
        "colab": {
          "base_uri": "https://localhost:8080/",
          "height": 473
        },
        "id": "gJj1XT6XCkwY",
        "outputId": "90dcfa43-071c-4f3f-a6fb-c79aa0b86668"
      },
      "execution_count": null,
      "outputs": [
        {
          "output_type": "execute_result",
          "data": {
            "text/plain": [
              "       id                                               hash  \\\n",
              "0  716599  0000000000000000000288bb2cdbd907a32fdff4b8d9db...   \n",
              "1  716600  00000000000000000001fa03c2ad182a401c03c42f3e52...   \n",
              "2  716601  000000000000000000020f5e0c167fa9d817a16cb6c334...   \n",
              "3  716602  00000000000000000003e9f054f5c6f3f71e11b790fe1c...   \n",
              "4  716603  000000000000000000072ba79db2b57c4efa08f11f1d8f...   \n",
              "\n",
              "                  time          median_time     size  stripped_size   weight  \\\n",
              "0  2022-01-01 00:04:14  2021-12-31 23:30:21  1426751         848043  3970880   \n",
              "1  2022-01-01 00:14:14  2021-12-31 23:31:24  1496543         833921  3998306   \n",
              "2  2022-01-01 00:20:25  2021-12-31 23:49:55   868849         477523  2301418   \n",
              "3  2022-01-01 00:23:25  2021-12-31 23:53:28   207301         114438   550615   \n",
              "4  2022-01-01 00:28:47  2021-12-31 23:59:06   419910         234243  1122639   \n",
              "\n",
              "     version version_hex                    version_bits  ... fee_per_kb  \\\n",
              "0  545259520    20800000  100000100000000000000000000000  ...    8892.15   \n",
              "1  547356676    20a00004  100000101000000000000000000100  ...   10996.80   \n",
              "2  549453824    20c00000  100000110000000000000000000000  ...    8730.22   \n",
              "3  632782852    25b78004  100101101101111000000000000100  ...   12331.10   \n",
              "4  545259520    20800000  100000100000000000000000000000  ...   11910.80   \n",
              "\n",
              "   fee_per_kb_usd  fee_per_kwu  fee_per_kwu_usd     cdd_total generation  \\\n",
              "0          4.1159      3195.31           1.4789  17432.616913  625000000   \n",
              "1          5.0903      4116.62           1.9057  13331.088835  625000000   \n",
              "2          4.0409      3296.61           1.5261   7520.012028  625000000   \n",
              "3          5.7078      4645.92           2.1505   7563.960865  625000000   \n",
              "4          5.5134      4456.77           2.0631   3233.225948  625000000   \n",
              "\n",
              "   generation_usd     reward   reward_usd  guessed_miner  \n",
              "0        289300.0  637683092  295170.7500        Binance  \n",
              "1        289300.0  641451750  296915.1875         F2Pool  \n",
              "2        289300.0  632581371  292809.2500         ViaBTC  \n",
              "3        289300.0  627551570  290481.0625      SlushPool  \n",
              "4        289300.0  629996691  291612.8750         ViaBTC  \n",
              "\n",
              "[5 rows x 36 columns]"
            ],
            "text/html": [
              "\n",
              "  <div id=\"df-0ee3e54f-2bed-4adb-984f-e9404a41092d\">\n",
              "    <div class=\"colab-df-container\">\n",
              "      <div>\n",
              "<style scoped>\n",
              "    .dataframe tbody tr th:only-of-type {\n",
              "        vertical-align: middle;\n",
              "    }\n",
              "\n",
              "    .dataframe tbody tr th {\n",
              "        vertical-align: top;\n",
              "    }\n",
              "\n",
              "    .dataframe thead th {\n",
              "        text-align: right;\n",
              "    }\n",
              "</style>\n",
              "<table border=\"1\" class=\"dataframe\">\n",
              "  <thead>\n",
              "    <tr style=\"text-align: right;\">\n",
              "      <th></th>\n",
              "      <th>id</th>\n",
              "      <th>hash</th>\n",
              "      <th>time</th>\n",
              "      <th>median_time</th>\n",
              "      <th>size</th>\n",
              "      <th>stripped_size</th>\n",
              "      <th>weight</th>\n",
              "      <th>version</th>\n",
              "      <th>version_hex</th>\n",
              "      <th>version_bits</th>\n",
              "      <th>...</th>\n",
              "      <th>fee_per_kb</th>\n",
              "      <th>fee_per_kb_usd</th>\n",
              "      <th>fee_per_kwu</th>\n",
              "      <th>fee_per_kwu_usd</th>\n",
              "      <th>cdd_total</th>\n",
              "      <th>generation</th>\n",
              "      <th>generation_usd</th>\n",
              "      <th>reward</th>\n",
              "      <th>reward_usd</th>\n",
              "      <th>guessed_miner</th>\n",
              "    </tr>\n",
              "  </thead>\n",
              "  <tbody>\n",
              "    <tr>\n",
              "      <th>0</th>\n",
              "      <td>716599</td>\n",
              "      <td>0000000000000000000288bb2cdbd907a32fdff4b8d9db...</td>\n",
              "      <td>2022-01-01 00:04:14</td>\n",
              "      <td>2021-12-31 23:30:21</td>\n",
              "      <td>1426751</td>\n",
              "      <td>848043</td>\n",
              "      <td>3970880</td>\n",
              "      <td>545259520</td>\n",
              "      <td>20800000</td>\n",
              "      <td>100000100000000000000000000000</td>\n",
              "      <td>...</td>\n",
              "      <td>8892.15</td>\n",
              "      <td>4.1159</td>\n",
              "      <td>3195.31</td>\n",
              "      <td>1.4789</td>\n",
              "      <td>17432.616913</td>\n",
              "      <td>625000000</td>\n",
              "      <td>289300.0</td>\n",
              "      <td>637683092</td>\n",
              "      <td>295170.7500</td>\n",
              "      <td>Binance</td>\n",
              "    </tr>\n",
              "    <tr>\n",
              "      <th>1</th>\n",
              "      <td>716600</td>\n",
              "      <td>00000000000000000001fa03c2ad182a401c03c42f3e52...</td>\n",
              "      <td>2022-01-01 00:14:14</td>\n",
              "      <td>2021-12-31 23:31:24</td>\n",
              "      <td>1496543</td>\n",
              "      <td>833921</td>\n",
              "      <td>3998306</td>\n",
              "      <td>547356676</td>\n",
              "      <td>20a00004</td>\n",
              "      <td>100000101000000000000000000100</td>\n",
              "      <td>...</td>\n",
              "      <td>10996.80</td>\n",
              "      <td>5.0903</td>\n",
              "      <td>4116.62</td>\n",
              "      <td>1.9057</td>\n",
              "      <td>13331.088835</td>\n",
              "      <td>625000000</td>\n",
              "      <td>289300.0</td>\n",
              "      <td>641451750</td>\n",
              "      <td>296915.1875</td>\n",
              "      <td>F2Pool</td>\n",
              "    </tr>\n",
              "    <tr>\n",
              "      <th>2</th>\n",
              "      <td>716601</td>\n",
              "      <td>000000000000000000020f5e0c167fa9d817a16cb6c334...</td>\n",
              "      <td>2022-01-01 00:20:25</td>\n",
              "      <td>2021-12-31 23:49:55</td>\n",
              "      <td>868849</td>\n",
              "      <td>477523</td>\n",
              "      <td>2301418</td>\n",
              "      <td>549453824</td>\n",
              "      <td>20c00000</td>\n",
              "      <td>100000110000000000000000000000</td>\n",
              "      <td>...</td>\n",
              "      <td>8730.22</td>\n",
              "      <td>4.0409</td>\n",
              "      <td>3296.61</td>\n",
              "      <td>1.5261</td>\n",
              "      <td>7520.012028</td>\n",
              "      <td>625000000</td>\n",
              "      <td>289300.0</td>\n",
              "      <td>632581371</td>\n",
              "      <td>292809.2500</td>\n",
              "      <td>ViaBTC</td>\n",
              "    </tr>\n",
              "    <tr>\n",
              "      <th>3</th>\n",
              "      <td>716602</td>\n",
              "      <td>00000000000000000003e9f054f5c6f3f71e11b790fe1c...</td>\n",
              "      <td>2022-01-01 00:23:25</td>\n",
              "      <td>2021-12-31 23:53:28</td>\n",
              "      <td>207301</td>\n",
              "      <td>114438</td>\n",
              "      <td>550615</td>\n",
              "      <td>632782852</td>\n",
              "      <td>25b78004</td>\n",
              "      <td>100101101101111000000000000100</td>\n",
              "      <td>...</td>\n",
              "      <td>12331.10</td>\n",
              "      <td>5.7078</td>\n",
              "      <td>4645.92</td>\n",
              "      <td>2.1505</td>\n",
              "      <td>7563.960865</td>\n",
              "      <td>625000000</td>\n",
              "      <td>289300.0</td>\n",
              "      <td>627551570</td>\n",
              "      <td>290481.0625</td>\n",
              "      <td>SlushPool</td>\n",
              "    </tr>\n",
              "    <tr>\n",
              "      <th>4</th>\n",
              "      <td>716603</td>\n",
              "      <td>000000000000000000072ba79db2b57c4efa08f11f1d8f...</td>\n",
              "      <td>2022-01-01 00:28:47</td>\n",
              "      <td>2021-12-31 23:59:06</td>\n",
              "      <td>419910</td>\n",
              "      <td>234243</td>\n",
              "      <td>1122639</td>\n",
              "      <td>545259520</td>\n",
              "      <td>20800000</td>\n",
              "      <td>100000100000000000000000000000</td>\n",
              "      <td>...</td>\n",
              "      <td>11910.80</td>\n",
              "      <td>5.5134</td>\n",
              "      <td>4456.77</td>\n",
              "      <td>2.0631</td>\n",
              "      <td>3233.225948</td>\n",
              "      <td>625000000</td>\n",
              "      <td>289300.0</td>\n",
              "      <td>629996691</td>\n",
              "      <td>291612.8750</td>\n",
              "      <td>ViaBTC</td>\n",
              "    </tr>\n",
              "  </tbody>\n",
              "</table>\n",
              "<p>5 rows × 36 columns</p>\n",
              "</div>\n",
              "      <button class=\"colab-df-convert\" onclick=\"convertToInteractive('df-0ee3e54f-2bed-4adb-984f-e9404a41092d')\"\n",
              "              title=\"Convert this dataframe to an interactive table.\"\n",
              "              style=\"display:none;\">\n",
              "        \n",
              "  <svg xmlns=\"http://www.w3.org/2000/svg\" height=\"24px\"viewBox=\"0 0 24 24\"\n",
              "       width=\"24px\">\n",
              "    <path d=\"M0 0h24v24H0V0z\" fill=\"none\"/>\n",
              "    <path d=\"M18.56 5.44l.94 2.06.94-2.06 2.06-.94-2.06-.94-.94-2.06-.94 2.06-2.06.94zm-11 1L8.5 8.5l.94-2.06 2.06-.94-2.06-.94L8.5 2.5l-.94 2.06-2.06.94zm10 10l.94 2.06.94-2.06 2.06-.94-2.06-.94-.94-2.06-.94 2.06-2.06.94z\"/><path d=\"M17.41 7.96l-1.37-1.37c-.4-.4-.92-.59-1.43-.59-.52 0-1.04.2-1.43.59L10.3 9.45l-7.72 7.72c-.78.78-.78 2.05 0 2.83L4 21.41c.39.39.9.59 1.41.59.51 0 1.02-.2 1.41-.59l7.78-7.78 2.81-2.81c.8-.78.8-2.07 0-2.86zM5.41 20L4 18.59l7.72-7.72 1.47 1.35L5.41 20z\"/>\n",
              "  </svg>\n",
              "      </button>\n",
              "      \n",
              "  <style>\n",
              "    .colab-df-container {\n",
              "      display:flex;\n",
              "      flex-wrap:wrap;\n",
              "      gap: 12px;\n",
              "    }\n",
              "\n",
              "    .colab-df-convert {\n",
              "      background-color: #E8F0FE;\n",
              "      border: none;\n",
              "      border-radius: 50%;\n",
              "      cursor: pointer;\n",
              "      display: none;\n",
              "      fill: #1967D2;\n",
              "      height: 32px;\n",
              "      padding: 0 0 0 0;\n",
              "      width: 32px;\n",
              "    }\n",
              "\n",
              "    .colab-df-convert:hover {\n",
              "      background-color: #E2EBFA;\n",
              "      box-shadow: 0px 1px 2px rgba(60, 64, 67, 0.3), 0px 1px 3px 1px rgba(60, 64, 67, 0.15);\n",
              "      fill: #174EA6;\n",
              "    }\n",
              "\n",
              "    [theme=dark] .colab-df-convert {\n",
              "      background-color: #3B4455;\n",
              "      fill: #D2E3FC;\n",
              "    }\n",
              "\n",
              "    [theme=dark] .colab-df-convert:hover {\n",
              "      background-color: #434B5C;\n",
              "      box-shadow: 0px 1px 3px 1px rgba(0, 0, 0, 0.15);\n",
              "      filter: drop-shadow(0px 1px 2px rgba(0, 0, 0, 0.3));\n",
              "      fill: #FFFFFF;\n",
              "    }\n",
              "  </style>\n",
              "\n",
              "      <script>\n",
              "        const buttonEl =\n",
              "          document.querySelector('#df-0ee3e54f-2bed-4adb-984f-e9404a41092d button.colab-df-convert');\n",
              "        buttonEl.style.display =\n",
              "          google.colab.kernel.accessAllowed ? 'block' : 'none';\n",
              "\n",
              "        async function convertToInteractive(key) {\n",
              "          const element = document.querySelector('#df-0ee3e54f-2bed-4adb-984f-e9404a41092d');\n",
              "          const dataTable =\n",
              "            await google.colab.kernel.invokeFunction('convertToInteractive',\n",
              "                                                     [key], {});\n",
              "          if (!dataTable) return;\n",
              "\n",
              "          const docLinkHtml = 'Like what you see? Visit the ' +\n",
              "            '<a target=\"_blank\" href=https://colab.research.google.com/notebooks/data_table.ipynb>data table notebook</a>'\n",
              "            + ' to learn more about interactive tables.';\n",
              "          element.innerHTML = '';\n",
              "          dataTable['output_type'] = 'display_data';\n",
              "          await google.colab.output.renderOutput(dataTable, element);\n",
              "          const docLink = document.createElement('div');\n",
              "          docLink.innerHTML = docLinkHtml;\n",
              "          element.appendChild(docLink);\n",
              "        }\n",
              "      </script>\n",
              "    </div>\n",
              "  </div>\n",
              "  "
            ]
          },
          "metadata": {},
          "execution_count": 23
        }
      ]
    },
    {
      "cell_type": "code",
      "source": [
        "def get_durations(blocks):\n",
        "  durations = []\n",
        "  last_time = None\n",
        "  for _, block in blocks.iterrows():\n",
        "    current_time = datetime.strptime(block['time'], '%Y-%m-%d %H:%M:%S')\n",
        "    if last_time == None:\n",
        "      last_time = current_time\n",
        "    else:\n",
        "      durations.append((current_time - last_time).total_seconds())\n",
        "      last_time = current_time\n",
        "  return np.divide(durations, 60)"
      ],
      "metadata": {
        "id": "klueY8dsDsVo"
      },
      "execution_count": null,
      "outputs": []
    },
    {
      "cell_type": "code",
      "source": [
        "def test(blocks):\n",
        "  durations = get_durations(blocks)\n",
        "  bins = np.linspace(0, np.max(durations), 50)\n",
        "  plt.hist(durations, bins=bins)\n",
        "  plt.show()\n",
        "  mean = np.mean(durations)\n",
        "  var = np.var(durations)\n",
        "  print('mean:', mean)\n",
        "  print('variance:', var)\n",
        "\n",
        "  alpha = 0.05\n",
        "  null_hypothesis = lambda x: expon.cdf(x, scale=mean)\n",
        "  test_statistic, p_value = kstest(durations, null_hypothesis)\n",
        "  if p_value >= alpha:\n",
        "    print('Accepted')\n",
        "  else:\n",
        "    print('Rejected')"
      ],
      "metadata": {
        "id": "Dq6zh8N_Hb4h"
      },
      "execution_count": null,
      "outputs": []
    },
    {
      "cell_type": "code",
      "source": [
        "test(df)"
      ],
      "metadata": {
        "colab": {
          "base_uri": "https://localhost:8080/",
          "height": 482
        },
        "id": "xWpVFtHSILMs",
        "outputId": "06230bcb-ef1e-4a65-985d-ec0826aa6980"
      },
      "execution_count": null,
      "outputs": [
        {
          "output_type": "display_data",
          "data": {
            "text/plain": [
              "<Figure size 640x480 with 1 Axes>"
            ],
            "image/png": "[encoded data removed]"
          },
          "metadata": {}
        },
        {
          "output_type": "stream",
          "name": "stdout",
          "text": [
            "mean: 9.881480123589098\n",
            "variance: 98.29269688085358\n",
            "Accepted\n"
          ]
        }
      ]
    },
    {
      "cell_type": "code",
      "source": [
        "test(df[df['guessed_miner'] == 'Foundry USA Pool'])"
      ],
      "metadata": {
        "colab": {
          "base_uri": "https://localhost:8080/",
          "height": 482
        },
        "id": "neSw4xNvdTNX",
        "outputId": "e0af51f5-5238-4229-a668-07ca7c370e46"
      },
      "execution_count": null,
      "outputs": [
        {
          "output_type": "display_data",
          "data": {
            "text/plain": [
              "<Figure size 640x480 with 1 Axes>"
            ],
            "image/png": "[encoded data removed]"
          },
          "metadata": {}
        },
        {
          "output_type": "stream",
          "name": "stdout",
          "text": [
            "mean: 42.13254961318533\n",
            "variance: 1881.7786886446681\n",
            "Accepted\n"
          ]
        }
      ]
    },
    {
      "cell_type": "code",
      "source": [
        "test(df[df['guessed_miner'] == 'AntPool'])"
      ],
      "metadata": {
        "colab": {
          "base_uri": "https://localhost:8080/",
          "height": 482
        },
        "id": "Gi5CjPuciGsq",
        "outputId": "ba8af3d6-119b-483d-e13e-8ed3f6aba3e6"
      },
      "execution_count": null,
      "outputs": [
        {
          "output_type": "display_data",
          "data": {
            "text/plain": [
              "<Figure size 640x480 with 1 Axes>"
            ],
            "image/png": "[encoded data removed]"
          },
          "metadata": {}
        },
        {
          "output_type": "stream",
          "name": "stdout",
          "text": [
            "mean: 60.53538978494624\n",
            "variance: 3683.239711304801\n",
            "Accepted\n"
          ]
        }
      ]
    }
  ]
}